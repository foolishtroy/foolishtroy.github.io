{
 "cells": [
  {
   "cell_type": "markdown",
   "metadata": {},
   "source": [
    "# Fundamental Types, Lists, Tuples"
   ]
  },
  {
   "cell_type": "code",
   "execution_count": 3,
   "metadata": {},
   "outputs": [
    {
     "name": "stdout",
     "output_type": "stream",
     "text": [
      "<class 'int'>\n",
      "<class 'float'>\n",
      "<class 'bool'>\n",
      "<class 'complex'>\n",
      "<class 'str'> 9\n"
     ]
    }
   ],
   "source": [
    "x = 1\n",
    "print(type(x))\n",
    "x = 1.0\n",
    "print(type(x))\n",
    "x = True\n",
    "print(type(x))\n",
    "x = 1.0 +1.j\n",
    "print(type(x))\n",
    "x = 'my string'\n",
    "print(type(x), len(x))"
   ]
  },
  {
   "cell_type": "markdown",
   "metadata": {},
   "source": [
    "**List are mutable** but **Tuples are immutable**, i.e. lists can add or remove elements dynamically but tuples are static and fixed. Tuples uses less memory than lists and are faster. "
   ]
  },
  {
   "cell_type": "code",
   "execution_count": 5,
   "metadata": {},
   "outputs": [
    {
     "name": "stdout",
     "output_type": "stream",
     "text": [
      "<class 'list'>\n",
      "<class 'tuple'>\n"
     ]
    }
   ],
   "source": [
    "x = [1, 2, 3.0, 2.+3j] # List\n",
    "y = (1, 2, 3.0, 2.+3j) # Tuple\n",
    "print(type(x))\n",
    "print(type(y))"
   ]
  },
  {
   "cell_type": "code",
   "execution_count": 9,
   "metadata": {},
   "outputs": [
    {
     "name": "stdout",
     "output_type": "stream",
     "text": [
      "[<class 'int'>, <class 'int'>, <class 'str'>, <class 'complex'>] [<class 'int'>, <class 'int'>, <class 'float'>, <class 'complex'>]\n"
     ]
    }
   ],
   "source": [
    "x[2] = 'ss' # The third element is now str\n",
    "print([type(i) for i in x], [type(i) for i in y])"
   ]
  },
  {
   "cell_type": "markdown",
   "metadata": {},
   "source": [
    "The **append()** method appends an element to the end of the list  \n",
    "* `list.append(elmnt)`"
   ]
  },
  {
   "cell_type": "code",
   "execution_count": 11,
   "metadata": {},
   "outputs": [
    {
     "name": "stdout",
     "output_type": "stream",
     "text": [
      "[<class 'int'>, <class 'int'>, <class 'str'>, <class 'complex'>]\n"
     ]
    }
   ],
   "source": [
    "r = [] # List\n",
    "for i in x:\n",
    "    r.append(type(i))\n",
    "print(r)"
   ]
  },
  {
   "cell_type": "markdown",
   "metadata": {},
   "source": [
    "**Generator** are a type of iterable that compute the values on demand and one at a time. \n",
    "* Generator expressions: \n",
    "    ```py\n",
    "    gen = (x**2 for x in range(5))\n",
    "    ```\n",
    "* Generator functions: use `yield` instead of `return`\n",
    "    ```py \n",
    "    def my_gen():\n",
    "        for i in range(3):\n",
    "            yield i\n",
    "    ```"
   ]
  },
  {
   "cell_type": "code",
   "execution_count": null,
   "metadata": {},
   "outputs": [
    {
     "name": "stdout",
     "output_type": "stream",
     "text": [
      "<generator object <genexpr> at 0x111122dc0>\n",
      "<class 'generator'>\n",
      "<class 'int'>\n",
      "<class 'int'>\n",
      "<class 'str'>\n",
      "<class 'complex'>\n"
     ]
    },
    {
     "data": {
      "text/plain": [
       "[int, int, str, complex]"
      ]
     },
     "execution_count": 21,
     "metadata": {},
     "output_type": "execute_result"
    }
   ],
   "source": [
    "r = (type(i) for i in x)\n",
    "print(r)\n",
    "print(type(r))\n",
    "\n",
    "for i in r:\n",
    "    print(i)\n",
    "\n",
    "[type(i) for i in x]"
   ]
  },
  {
   "cell_type": "markdown",
   "metadata": {},
   "source": [
    "# Formating strings and print statement"
   ]
  },
  {
   "cell_type": "code",
   "execution_count": 22,
   "metadata": {},
   "outputs": [
    {
     "name": "stdout",
     "output_type": "stream",
     "text": [
      "Help on built-in function print in module builtins:\n",
      "\n",
      "print(*args, sep=' ', end='\\n', file=None, flush=False)\n",
      "    Prints the values to a stream, or to sys.stdout by default.\n",
      "\n",
      "    sep\n",
      "      string inserted between values, default a space.\n",
      "    end\n",
      "      string appended after the last value, default a newline.\n",
      "    file\n",
      "      a file-like object (stream); defaults to the current sys.stdout.\n",
      "    flush\n",
      "      whether to forcibly flush the stream.\n",
      "\n"
     ]
    }
   ],
   "source": [
    "help(print)"
   ]
  },
  {
   "cell_type": "code",
   "execution_count": 25,
   "metadata": {},
   "outputs": [
    {
     "name": "stdout",
     "output_type": "stream",
     "text": [
      "My name is John and I am a 25 years old.\n"
     ]
    }
   ],
   "source": [
    "print(\"My name is {} and I am a {} years old.\".format(\"John\", 25))"
   ]
  },
  {
   "cell_type": "markdown",
   "metadata": {},
   "source": [
    "An older formatting method is the **String Modulo Operator** `%`.\n",
    "```py\n",
    "    %[flags][width][.precision]type\n",
    "```\n",
    "* `s, r, a` for string\n",
    "* `d, i, u` for integer\n",
    "* `f, F` for floating point\n",
    "* `e, E` for floating point with e notation"
   ]
  },
  {
   "cell_type": "code",
   "execution_count": 33,
   "metadata": {},
   "outputs": [
    {
     "name": "stdout",
     "output_type": "stream",
     "text": [
      "My name is John and I am a 25 years old.\n",
      "I am 175.00 cm tall.\n"
     ]
    }
   ],
   "source": [
    "name = \"John\"\n",
    "age = 25\n",
    "height = 175\n",
    "print(\"My name is %s and I am a %d years old.\"%(name, age))\n",
    "print(\"I am %.2f cm tall.\"%(height)) \n",
    "# %.2f means float with 2 decimal places"
   ]
  },
  {
   "cell_type": "code",
   "execution_count": 51,
   "metadata": {},
   "outputs": [
    {
     "name": "stdout",
     "output_type": "stream",
     "text": [
      "The value of pi is      3.142 .\n",
      "Or approximately 3          .\n"
     ]
    }
   ],
   "source": [
    "from math import *\n",
    "print(\"The value of pi is %10.3f\" % (pi), \".\")\n",
    "print(\"Or approximately %-10.d\" % (pi), \".\")"
   ]
  },
  {
   "cell_type": "markdown",
   "metadata": {},
   "source": [
    "**f-string** stands for **formatted string literal in Python 3.6 which allows directly embed variables into a string.\n",
    "  \n",
    "Escape Charaters:\n",
    "* `\\n` → Newline\n",
    "* `\\t` → Tab\n",
    "* `\\\\` → Backslash\n",
    "* `\\\"` → Double quote\n",
    "* `\\'` → Single quote"
   ]
  },
  {
   "cell_type": "code",
   "execution_count": null,
   "metadata": {},
   "outputs": [
    {
     "name": "stdout",
     "output_type": "stream",
     "text": [
      "Pi is approximately 3.14\n",
      "My name is John and I am 25 years old.\n",
      "\n",
      "Padding Example:\n",
      "|left      |\n",
      "|  center  |\n",
      "|     right|\n"
     ]
    }
   ],
   "source": [
    "print(f\"Pi is approximately {pi:.2f}\")\n",
    "print(f\"My name is {name} and I am {age} years old.\\n\")\n",
    "\n",
    "print(\"Padding Example:\")\n",
    "print(f\"|{'left':<10}|\")\n",
    "print(f\"|{'center':^10}|\")\n",
    "print(f\"|{'right':>10}|\")\n",
    "\n"
   ]
  },
  {
   "cell_type": "markdown",
   "metadata": {},
   "source": [
    "# Lists"
   ]
  },
  {
   "cell_type": "markdown",
   "metadata": {},
   "source": []
  }
 ],
 "metadata": {
  "kernelspec": {
   "display_name": "CompPhys",
   "language": "python",
   "name": "python3"
  },
  "language_info": {
   "codemirror_mode": {
    "name": "ipython",
    "version": 3
   },
   "file_extension": ".py",
   "mimetype": "text/x-python",
   "name": "python",
   "nbconvert_exporter": "python",
   "pygments_lexer": "ipython3",
   "version": "3.12.8"
  }
 },
 "nbformat": 4,
 "nbformat_minor": 2
}
